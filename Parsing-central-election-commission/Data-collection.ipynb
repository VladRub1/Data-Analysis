{
 "cells": [
  {
   "cell_type": "markdown",
   "metadata": {},
   "source": [
    "# Automatic collection and processing of data on the results of the largest federal elections in the Russian Federation for 2004-2020.\n",
    "## The data collection part\n",
    "\n",
    "Website of the Central Election Commission (CEC) for data collection (may not be available from some countries): http://www.vybory.izbirkom.ru/region/izbirkom"
   ]
  },
  {
   "cell_type": "markdown",
   "metadata": {},
   "source": [
    "## All-Russian voting on amendments to the Russian Constitution\n",
    "\n",
    "In this section I will collect extended data on the results of voting on amendments to the Russian Constitution in 2020. Most of the code for parsing has been put into separate functions, which can be found in the `parsing_tools` module.\n",
    "\n",
    "Please note that the code should run slowly to mimic the behavior of a real user on the Central Election Commission website and not be recognized as a robot."
   ]
  },
  {
   "cell_type": "code",
   "execution_count": null,
   "metadata": {},
   "outputs": [],
   "source": [
    "# version specifications as well as all dependencies can be found in the requirements.txt file\n",
    "# !pip install -r requirements.txt"
   ]
  },
  {
   "cell_type": "code",
   "execution_count": 1,
   "metadata": {},
   "outputs": [],
   "source": [
    "# import dependencies\n",
    "import pandas as pd\n",
    "import requests\n",
    "import datetime as dt\n",
    "\n",
    "from bs4 import BeautifulSoup\n",
    "from time import sleep\n",
    "from lxml import etree\n",
    "\n",
    "from selenium import webdriver as wb\n",
    "from selenium.webdriver.chrome.service import Service\n",
    "from selenium.webdriver.common.keys import Keys\n",
    "from selenium.webdriver.common.by import By\n",
    "\n",
    "from IPython.display import clear_output"
   ]
  },
  {
   "cell_type": "markdown",
   "metadata": {},
   "source": [
    "### Collect links to results by region\n",
    "First, let's launch the Google Chrome browser in automatic mode:"
   ]
  },
  {
   "cell_type": "code",
   "execution_count": 2,
   "metadata": {},
   "outputs": [],
   "source": [
    "# Pass to path_to_chromedriver the path \n",
    "# To the chromedriver file on your computer\n",
    "\n",
    "# This file, which is necessary to start the browser in automatic mode, \n",
    "# can be downloaded at the following link:\n",
    "# https://googlechromelabs.github.io/chrome-for-testing/\n",
    "path_to_chromedriver = '<your-path-to-chromedriver>'"
   ]
  },
  {
   "cell_type": "code",
   "execution_count": 20,
   "metadata": {},
   "outputs": [],
   "source": [
    "# Start Google Chrome in automatic mode\n",
    "s = Service(path_to_chromedriver)\n",
    "br = wb.Chrome(service=s)"
   ]
  },
  {
   "cell_type": "markdown",
   "metadata": {},
   "source": [
    "Let's collect links to voting results for regional election commissions (as well as commissions abroad of the Russian Federation):"
   ]
  },
  {
   "cell_type": "code",
   "execution_count": 4,
   "metadata": {},
   "outputs": [],
   "source": [
    "# Function to search for links to results by region\n",
    "from parsing_tools.parse_constitution import find_regional_links"
   ]
  },
  {
   "cell_type": "code",
   "execution_count": 28,
   "metadata": {},
   "outputs": [
    {
     "name": "stdout",
     "output_type": "stream",
     "text": [
      "[INFO] 87 links found\n"
     ]
    }
   ],
   "source": [
    "links = find_regional_links(br)"
   ]
  },
  {
   "cell_type": "markdown",
   "metadata": {},
   "source": [
    "### Collecting electoral statistics\n",
    "Let's open each of the 87 links and collect information about voting results from there:"
   ]
  },
  {
   "cell_type": "code",
   "execution_count": 6,
   "metadata": {},
   "outputs": [],
   "source": [
    "# Function for parsing results from a single region page\n",
    "from parsing_tools.parse_constitution import parse_one_regional_page"
   ]
  },
  {
   "cell_type": "code",
   "execution_count": 78,
   "metadata": {},
   "outputs": [],
   "source": [
    "# Collecting information by region\n",
    "for i, link in enumerate(links):\n",
    "    print(f'[INFO] Analysis of the region no. {i + 1} out of {len(links)}')\n",
    "    # In this loop, the wait for code execution will be long, \n",
    "    # to avoid blocking and captcha\n",
    "    df = parse_one_regional_page(link)\n",
    "\n",
    "    # On the first iteration we'll create a stacked_df\n",
    "    # Next we'll concatenate it with the new result\n",
    "    if i == 0:\n",
    "        stacked_df = df.copy()\n",
    "    else:\n",
    "        stacked_df = pd.concat([stacked_df, df])\n",
    "\n",
    "    clear_output()\n",
    "\n",
    "# Let's reset the indices to 0 to len(stacked_df) - 1\n",
    "stacked_df = stacked_df.reset_index(drop=True)\n",
    "# Save the collected data\n",
    "stacked_df.to_csv('data/data-raw/constitution_2020_data_raw.csv')"
   ]
  },
  {
   "cell_type": "markdown",
   "metadata": {},
   "source": [
    "Successfully collected amendment voting data for all available territorial election commissions (TECs)! The processing and analysis of this data will be presented in the file `Data-processing-and-analysis.ipynb`."
   ]
  },
  {
   "cell_type": "markdown",
   "metadata": {},
   "source": [
    "## Russian Presidential Elections 2004-2018\n",
    "In this section we will collect extended data on the results of four presidential elections in Russia: in 2004, 2008, 2012 and 2018 for all available regions and TECs within them. \n",
    "\n",
    "Most of the parsing code in this section has also been put into separate functions, which can be found in the `parsing_tools` module.\n",
    "A separate function has been written to handle each of the 4 votes, as the structure of data storage on the site differs from election to election, but is identical within a single vote. \n",
    "\n",
    "Note that the code must run slowly to mimic the behavior of a real user on the CEC site and not be recognized as a robot."
   ]
  },
  {
   "cell_type": "markdown",
   "metadata": {},
   "source": [
    "### Collect links to results by region\n",
    "First, let's launch the Google Chrome browser in automatic mode:"
   ]
  },
  {
   "cell_type": "code",
   "execution_count": 3,
   "metadata": {},
   "outputs": [],
   "source": [
    "# Start Google Chrome in automatic mode\n",
    "s = Service(path_to_chromedriver)\n",
    "br = wb.Chrome(service=s)"
   ]
  },
  {
   "cell_type": "markdown",
   "metadata": {},
   "source": [
    "Let's collect links to voting results for regional election commissions (as well as commissions abroad of the Russian Federation):"
   ]
  },
  {
   "cell_type": "code",
   "execution_count": 5,
   "metadata": {},
   "outputs": [],
   "source": [
    "from parsing_tools.parse_presidential import find_presidential_elections_links"
   ]
  },
  {
   "cell_type": "code",
   "execution_count": 32,
   "metadata": {},
   "outputs": [
    {
     "name": "stdout",
     "output_type": "stream",
     "text": [
      "[INFO] Found a link to the presidential election: http://www.vybory.izbirkom.ru/region/izbirkom?action=show&global=1&vrn=1001000882950&region=0&prver=0&pronetvd=null\n",
      "[INFO] Found a link to the presidential election: http://www.vybory.izbirkom.ru/region/izbirkom?action=show&global=1&vrn=100100022176412&region=0&prver=0&pronetvd=null\n",
      "[INFO] Found a link to the presidential election: http://www.vybory.izbirkom.ru/region/izbirkom?action=show&global=1&vrn=100100031793505&region=0&prver=0&pronetvd=null\n",
      "[INFO] Found a link to the presidential election: http://www.vybory.izbirkom.ru/region/izbirkom?action=show&global=1&vrn=100100084849062&region=0&prver=0&pronetvd=null\n",
      "[INFO] 91 links were found for 2004\n",
      "[INFO] 85 links were found for 2004\n",
      "[INFO] 85 links were found for 2004\n",
      "[INFO] 87 links were found for 2004\n"
     ]
    }
   ],
   "source": [
    "region_links_all_years = find_presidential_elections_links(br, s)"
   ]
  },
  {
   "cell_type": "markdown",
   "metadata": {},
   "source": [
    "### Collecting electoral statistics for each of the 4 polls\n",
    "First, let's define a logger using Python's built-in [`logging`](https://docs.python.org/3/library/logging.html) library.\n",
    "It will be needed to track and save errors that occur during the processing of a large amount of data, since doing it through the `print()` function will be irrational in this case."
   ]
  },
  {
   "cell_type": "code",
   "execution_count": 5,
   "metadata": {},
   "outputs": [],
   "source": [
    "import logging\n",
    "\n",
    "# Define the logger \n",
    "# Keep the default logging levels: errors and critical (levels 4 and 5 respectively)\n",
    "logger = logging.getLogger(\"high_level_log\")\n",
    "\n",
    "# Define a different handler for each logger to write the logs to a file\n",
    "handler_for_logger = logging.FileHandler(\"errors.log\", mode='w')\n",
    "\n",
    "# Define a formatter for each logger to standardize the output format\n",
    "# Based on docs: https://docs.python.org/3/library/logging.html#logrecord-attributes\n",
    "# Format: date, time, logger name, error level, comment (message)\n",
    "handler_for_logger.setFormatter(logging.Formatter(fmt=\"%(asctime)s %(name)s %(levelname)s %(message)s\"))\n",
    "\n",
    "# Adding handlers to loggers\n",
    "logger.addHandler(handler_for_logger)"
   ]
  },
  {
   "cell_type": "markdown",
   "metadata": {},
   "source": [
    "Let's collect the results for all the elections under consideration in turn, using separate functions:"
   ]
  },
  {
   "cell_type": "code",
   "execution_count": 6,
   "metadata": {},
   "outputs": [],
   "source": [
    "from parsing_tools.parse_presidential import parse_2004_presidential_elections\n",
    "from parsing_tools.parse_presidential import parse_2008_presidential_elections\n",
    "from parsing_tools.parse_presidential import parse_2012_presidential_elections\n",
    "from parsing_tools.parse_presidential import parse_2018_presidential_elections"
   ]
  },
  {
   "cell_type": "code",
   "execution_count": 16,
   "metadata": {},
   "outputs": [],
   "source": [
    "# Go through all elections and each region, collect data\n",
    "# In the region_links_all_years list, the 4 sets are in chronological\n",
    "# order of elections (see the function for collecting links)\n",
    "for i, link in enumerate(region_links_all_years):\n",
    "\n",
    "    if i == 0:\n",
    "        # Election 2004\n",
    "        # Collecting data\n",
    "        df_2004 = parse_2004_presidential_elections(s, region_links_all_years[i], logger)\n",
    "        # Reset the index\n",
    "        df_2004 = df_2004.reset_index(drop=True)\n",
    "        # Save data for 2004\n",
    "        df_2004.to_csv('data/data-raw/presidential_2004_data_raw.csv')\n",
    "    elif i == 1:\n",
    "        # Election 2008\n",
    "        df_2008 = parse_2008_presidential_elections(s, region_links_all_years[i], logger)\n",
    "        # Reset the index\n",
    "        df_2008 = df_2008.reset_index(drop=True)\n",
    "        # Save data for 2008\n",
    "        df_2008.to_csv('data/data-raw/presidential_2008_data_raw.csv')\n",
    "    elif i == 2:\n",
    "        # Election 2012\n",
    "        df_2012 = parse_2012_presidential_elections(s, region_links_all_years[i], logger)\n",
    "        # Reset the index\n",
    "        df_2012 = df_2012.reset_index(drop=True)\n",
    "        # Save data for 2012\n",
    "        df_2012.to_csv('data/data-raw/presidential_2012_data_raw.csv')\n",
    "    elif i == 3:\n",
    "        # Election 2018\n",
    "        df_2018 = parse_2018_presidential_elections(s, region_links_all_years[i], logger)\n",
    "        # Reset the index\n",
    "        df_2018 = df_2018.reset_index(drop=True)\n",
    "        # Save data for 2018\n",
    "        df_2018.to_csv('data/data-raw/presidential_2018_data_raw.csv')"
   ]
  },
  {
   "cell_type": "markdown",
   "metadata": {},
   "source": [
    "We have successfully collected data on Russian presidential elections from 2004-2018! Processing and analysis of these data will be presented in the file `Data-processing-and-analysis.ipynb`."
   ]
  },
  {
   "cell_type": "markdown",
   "metadata": {},
   "source": [
    "### Analyzing errors in the `errors.log` file\n",
    "\n",
    "We can see that the logger has recorded in the error file the information that the parser failed to collect data on the results of the 2004 presidential election in 6 regions:\n",
    "* Nizhny Novgorod region\n",
    "* Moscow city\n",
    "* Yaroslavl region\n",
    "* Kursk region\n",
    "* Rostov region\n",
    "* Murmansk region\n",
    "\n",
    "However, this is not an error of my program: if you follow the necessary links and look at the results of the 2004 presidential elections in these regions, you will notice that there are really no results for these regions, although the card for the elections is entered. I should note that this would be very difficult to identify without using the logger!\n",
    "\n",
    "In the user interface (see below), where there should be a link to the tables with results, there is an empty space:"
   ]
  },
  {
   "cell_type": "markdown",
   "metadata": {},
   "source": [
    "<img src=\"https://www.dropbox.com/scl/fi/clknzma1qlraewz67xcjx/City-of-Moscow.png?rlkey=egkdwdas5pqi1g8fxd5jqzxx1&dl=1\" align=\"left\" width=\"40%\" style=\"margin-left: 20px; margin-bottom: 5px; margin-top: 5px; margin-right: 10px; clear: right\">\n",
    "\n",
    "<img src=\"https://www.dropbox.com/scl/fi/dzuqenugak1gyshiwi9ef/Kursk-region.png?rlkey=9vif5uquiw1rte0mvqv3qtto0&dl=1\" align=\"left\" width=\"40%\" style=\"margin-left: 20px; margin-bottom: 5px; margin-top: 5px; margin-right: 10px; clear: right\">\n",
    "\n",
    "<img src=\"https://www.dropbox.com/scl/fi/bxnvbz79afxthesb1jmzb/Murmansk-region.png?rlkey=fcf4iqnz9ivpv6hu6o5925a8w&dl=1\" align=\"left\" width=\"40%\" style=\"margin-left: 20px; margin-bottom: 5px; margin-top: 5px; margin-right: 10px; clear: right\">\n",
    "\n",
    "<img src=\"https://www.dropbox.com/scl/fi/3zwti35eqxfpxy95zhgdu/Nizhny-Novgorod-region.png?rlkey=pymzp1skt99u630oxvv48d1yk&dl=1\" align=\"left\" width=\"40%\" style=\"margin-left: 20px; margin-bottom: 5px; margin-top: 5px; margin-right: 10px; clear: right\">\n",
    "\n",
    "<img src=\"https://www.dropbox.com/scl/fi/zs9t15qdyuhx782td9afs/Rostov-region.png?rlkey=47nq83mhpf0ao7r0nh6q1c5st&dl=1\" align=\"left\" width=\"40%\" style=\"margin-left: 20px; margin-bottom: 5px; margin-top: 5px; margin-right: 10px; clear: right\">\n",
    "\n",
    "<img src=\"https://www.dropbox.com/scl/fi/05q98rgvy62rbdcguwwvn/Yaroslavl-region.png?rlkey=9gf8ysmkwrrgk6043wjf19er1&dl=1\" align=\"left\" width=\"40%\" style=\"margin-left: 20px; margin-bottom: 5px; margin-top: 5px; margin-right: 10px; clear: right\">\n",
    "\n",
    "\n",
    "\n",
    "\n",
    "\n",
    "\n"
   ]
  }
 ],
 "metadata": {
  "kernelspec": {
   "display_name": "python_parsing_project",
   "language": "python",
   "name": "python3"
  },
  "language_info": {
   "codemirror_mode": {
    "name": "ipython",
    "version": 3
   },
   "file_extension": ".py",
   "mimetype": "text/x-python",
   "name": "python",
   "nbconvert_exporter": "python",
   "pygments_lexer": "ipython3",
   "version": "3.9.18"
  }
 },
 "nbformat": 4,
 "nbformat_minor": 2
}
